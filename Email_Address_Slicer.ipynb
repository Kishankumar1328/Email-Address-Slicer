{
  "nbformat": 4,
  "nbformat_minor": 0,
  "metadata": {
    "colab": {
      "provenance": [],
      "authorship_tag": "ABX9TyMq7/qGMsYarV7KuVZEw4HN",
      "include_colab_link": true
    },
    "kernelspec": {
      "name": "python3",
      "display_name": "Python 3"
    },
    "language_info": {
      "name": "python"
    }
  },
  "cells": [
    {
      "cell_type": "markdown",
      "metadata": {
        "id": "view-in-github",
        "colab_type": "text"
      },
      "source": [
        "<a href=\"https://colab.research.google.com/github/Kishankumar1328/Email-Address-Slicer/blob/main/Email_Address_Slicer.ipynb\" target=\"_parent\"><img src=\"https://colab.research.google.com/assets/colab-badge.svg\" alt=\"Open In Colab\"/></a>"
      ]
    },
    {
      "cell_type": "code",
      "execution_count": 4,
      "metadata": {
        "colab": {
          "base_uri": "https://localhost:8080/"
        },
        "id": "9MRjDdWFzcUf",
        "outputId": "9381be6c-6ca4-49e1-f5ea-ccd1efc65d24"
      },
      "outputs": [
        {
          "output_type": "stream",
          "name": "stdout",
          "text": [
            "Enter your mail id:kish13@gmail.com\n",
            "username:kish13\n",
            "Domain:gmail.com\n"
          ]
        }
      ],
      "source": [
        "email=input(\"Enter your mail id:\")\n",
        "try:\n",
        "  username,domain=email.split(\"@\")\n",
        "  print(f\"username:{username}\")\n",
        "  print(f\"Domain:{domain}\")\n",
        "except ValueError:\n",
        "  print(\"Invalid email\")"
      ]
    }
  ]
}